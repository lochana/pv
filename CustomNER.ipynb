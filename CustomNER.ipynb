{
 "cells": [
  {
   "cell_type": "markdown",
   "source": [
    "**Importing the Required Libraries and Downloading SpaCy Models**\n",
    "Here, we import the spacy (**version 2**) library and load a model named **en_core_web_sm** using spacy.load(\"en_core_web_sm\"). The loaded model is assigned to a variable named nlp. The model has to be downloaded before it is loaded. This was done by following the steps below:\n",
    "1. Open the anaconda prompt with administrator privilege\n",
    "2. Switch to the correct anaconda environment (rdkit-env)\n",
    "3. Download the model with python -m spacy download en_core_web_sm"
   ],
   "metadata": {
    "collapsed": false
   }
  },
  {
   "cell_type": "code",
   "execution_count": 1,
   "outputs": [],
   "source": [
    "import spacy\n",
    "nlp = spacy.load(\"en_core_web_sm\")"
   ],
   "metadata": {
    "collapsed": false,
    "ExecuteTime": {
     "start_time": "2023-09-12T18:08:54.418048Z",
     "end_time": "2023-09-12T18:08:56.776485Z"
    }
   }
  },
  {
   "cell_type": "markdown",
   "source": [
    "**Creating a SpaCy Doc Object**\n",
    "We create a Doc object by passing a text string to the loaded SpaCy model (nlp). This text is processed by the NLP pipeline, and the resulting document is assigned to the variable doc."
   ],
   "metadata": {
    "collapsed": false
   }
  },
  {
   "cell_type": "code",
   "execution_count": 2,
   "outputs": [],
   "source": [
    "doc = nlp(\"University of Peradeniya is the most beautiful university in Sri Lanka\")"
   ],
   "metadata": {
    "collapsed": false,
    "ExecuteTime": {
     "start_time": "2023-09-12T18:08:58.954830Z",
     "end_time": "2023-09-12T18:08:59.012833Z"
    }
   }
  },
  {
   "cell_type": "markdown",
   "source": [
    "**Accessing and Visualizing the Entities in the Document**\n",
    "The ents attribute of the Doc object contains the named entities recognized in the document. Following code imports the displacy module from SpaCy and renders the named entities in the document using the \"ent\" (entity) style."
   ],
   "metadata": {
    "collapsed": false
   }
  },
  {
   "cell_type": "code",
   "execution_count": 3,
   "outputs": [
    {
     "data": {
      "text/plain": "<IPython.core.display.HTML object>",
      "text/html": "<span class=\"tex2jax_ignore\"><div class=\"entities\" style=\"line-height: 2.5; direction: ltr\">\n<mark class=\"entity\" style=\"background: #7aecec; padding: 0.45em 0.6em; margin: 0 0.25em; line-height: 1; border-radius: 0.35em;\">\n    University of Peradeniya\n    <span style=\"font-size: 0.8em; font-weight: bold; line-height: 1; border-radius: 0.35em; vertical-align: middle; margin-left: 0.5rem\">ORG</span>\n</mark>\n is the most beautiful university in \n<mark class=\"entity\" style=\"background: #feca74; padding: 0.45em 0.6em; margin: 0 0.25em; line-height: 1; border-radius: 0.35em;\">\n    Sri Lanka\n    <span style=\"font-size: 0.8em; font-weight: bold; line-height: 1; border-radius: 0.35em; vertical-align: middle; margin-left: 0.5rem\">GPE</span>\n</mark>\n</div></span>"
     },
     "metadata": {},
     "output_type": "display_data"
    }
   ],
   "source": [
    "from spacy import displacy\n",
    "displacy.render(doc, style=\"ent\", jupyter=True)"
   ],
   "metadata": {
    "collapsed": false,
    "ExecuteTime": {
     "start_time": "2023-09-12T18:09:03.305879Z",
     "end_time": "2023-09-12T18:09:03.337876Z"
    }
   }
  },
  {
   "cell_type": "markdown",
   "source": [
    "**Loading a Training Dataset in JSON Format**\n",
    "Here, we import the json library and load training data from a JSON file named \"Corona2.json\" using the json.load() function. The loaded data is stored in the data variable."
   ],
   "metadata": {
    "collapsed": false
   }
  },
  {
   "cell_type": "code",
   "execution_count": 4,
   "outputs": [],
   "source": [
    "import json\n",
    "with open('Corona2.json', 'r') as f:\n",
    "    data = json.load(f)"
   ],
   "metadata": {
    "collapsed": false,
    "ExecuteTime": {
     "start_time": "2023-09-12T18:09:06.631376Z",
     "end_time": "2023-09-12T18:09:06.683378Z"
    }
   }
  },
  {
   "cell_type": "markdown",
   "source": [
    "**Analyzing the Format of the JSON File**\n",
    "Here, we analyze the format of the JSON file with pretty print package. A depth level of 2 is a good starting point to figure out the overall structure of the file."
   ],
   "metadata": {
    "collapsed": false
   }
  },
  {
   "cell_type": "code",
   "execution_count": 5,
   "outputs": [
    {
     "name": "stdout",
     "output_type": "stream",
     "text": [
      "{'examples': [{...}, {...}, {...}, {...}, {...}, {...}, {...}, {...}, {...},\n",
      "              {...}, {...}, {...}, {...}, {...}, {...}, {...}, {...}, {...},\n",
      "              {...}, {...}, {...}, {...}, {...}, {...}, {...}, {...}, {...},\n",
      "              {...}, {...}, {...}, {...}]}\n",
      "{'annotations': [...],\n",
      " 'classifications': [],\n",
      " 'content': 'While bismuth compounds (Pepto-Bismol) decreased the number of '\n",
      "            \"bowel movements in those with travelers' diarrhea, they do not \"\n",
      "            'decrease the length of illness.[91] Anti-motility agents like '\n",
      "            'loperamide are also effective at reducing the number of stools '\n",
      "            'but not the duration of disease.[8] These agents should be used '\n",
      "            'only if bloody diarrhea is not present.[92]\\n'\n",
      "            '\\n'\n",
      "            'Diosmectite, a natural aluminomagnesium silicate clay, is '\n",
      "            'effective in alleviating symptoms of acute diarrhea in '\n",
      "            'children,[93] and also has some effects in chronic functional '\n",
      "            'diarrhea, radiation-induced diarrhea, and chemotherapy-induced '\n",
      "            'diarrhea.[45] Another absorbent agent used for the treatment of '\n",
      "            'mild diarrhea is kaopectate.\\n'\n",
      "            '\\n'\n",
      "            'Racecadotril an antisecretory medication may be used to treat '\n",
      "            'diarrhea in children and adults.[86] It has better tolerability '\n",
      "            'than loperamide, as it causes less constipation and '\n",
      "            'flatulence.[94]',\n",
      " 'id': '18c2f619-f102-452f-ab81-d26f7e283ffe',\n",
      " 'metadata': {}}\n"
     ]
    }
   ],
   "source": [
    "from pprint import pprint\n",
    "pprint(data,depth=2, compact=True)\n",
    "pprint(data['examples'][0], depth=1, compact=True)"
   ],
   "metadata": {
    "collapsed": false,
    "ExecuteTime": {
     "start_time": "2023-09-12T18:09:10.152860Z",
     "end_time": "2023-09-12T18:09:10.171858Z"
    }
   }
  },
  {
   "cell_type": "markdown",
   "source": [
    "**Converting Data Into a Format Suitable for SpaCy**\n",
    "This code prepares the training data in the required format for SpaCy. It iterates over the examples in the loaded data, extracts the text and annotations (start position, end position, and label) for each example, and appends them to a list called training_data."
   ],
   "metadata": {
    "collapsed": false
   }
  },
  {
   "cell_type": "code",
   "execution_count": 6,
   "outputs": [
    {
     "name": "stdout",
     "output_type": "stream",
     "text": [
      "{'entities': [(360, 371, 'MEDICINE'),\n",
      "              (383, 408, 'MEDICINE'),\n",
      "              (104, 112, 'MEDICALCONDITION'),\n",
      "              (679, 689, 'MEDICINE'),\n",
      "              (6, 23, 'MEDICINE'),\n",
      "              (25, 37, 'MEDICINE'),\n",
      "              (461, 470, 'MEDICALCONDITION'),\n",
      "              (577, 589, 'MEDICINE'),\n",
      "              (853, 865, 'MEDICALCONDITION'),\n",
      "              (188, 198, 'MEDICINE'),\n",
      "              (754, 762, 'MEDICALCONDITION'),\n",
      "              (870, 880, 'MEDICALCONDITION'),\n",
      "              (823, 833, 'MEDICINE'),\n",
      "              (852, 853, 'MEDICALCONDITION'),\n",
      "              (461, 469, 'MEDICALCONDITION'),\n",
      "              (535, 543, 'MEDICALCONDITION'),\n",
      "              (692, 704, 'MEDICINE'),\n",
      "              (563, 571, 'MEDICALCONDITION')],\n",
      " 'text': 'While bismuth compounds (Pepto-Bismol) decreased the number of bowel '\n",
      "         \"movements in those with travelers' diarrhea, they do not decrease \"\n",
      "         'the length of illness.[91] Anti-motility agents like loperamide are '\n",
      "         'also effective at reducing the number of stools but not the duration '\n",
      "         'of disease.[8] These agents should be used only if bloody diarrhea '\n",
      "         'is not present.[92]\\n'\n",
      "         '\\n'\n",
      "         'Diosmectite, a natural aluminomagnesium silicate clay, is effective '\n",
      "         'in alleviating symptoms of acute diarrhea in children,[93] and also '\n",
      "         'has some effects in chronic functional diarrhea, radiation-induced '\n",
      "         'diarrhea, and chemotherapy-induced diarrhea.[45] Another absorbent '\n",
      "         'agent used for the treatment of mild diarrhea is kaopectate.\\n'\n",
      "         '\\n'\n",
      "         'Racecadotril an antisecretory medication may be used to treat '\n",
      "         'diarrhea in children and adults.[86] It has better tolerability than '\n",
      "         'loperamide, as it causes less constipation and flatulence.[94]'}\n"
     ]
    }
   ],
   "source": [
    "training_data = []\n",
    "for example in data['examples']:\n",
    "    temp_dict = {}\n",
    "    temp_dict['text'] = example['content']\n",
    "    temp_dict['entities'] = []\n",
    "    for annotation in example['annotations']:\n",
    "        start = annotation['start']\n",
    "        end = annotation['end']\n",
    "        label = annotation['tag_name'].upper()\n",
    "        temp_dict['entities'].append((start, end, label))\n",
    "    training_data.append(temp_dict)\n",
    "pprint(training_data[0])"
   ],
   "metadata": {
    "collapsed": false,
    "ExecuteTime": {
     "start_time": "2023-09-12T18:09:14.268200Z",
     "end_time": "2023-09-12T18:09:14.303195Z"
    }
   }
  },
  {
   "cell_type": "markdown",
   "source": [
    "**Converting training data to SpaCy DocBin format**\n",
    "In this section, we convert the training data to SpaCy's DocBin format, which is an efficient binary format for storing Doc objects. We initialize a blank English language model using spacy.blank(\"en\"), create an empty DocBin, and iterate over each training example. For each example, we create a Doc object using nlp.make_doc(text) and create spans for the entities. We filter the spans to remove overlapping entities using filter_spans, update the ents attribute of the Doc object, and add the Doc to the DocBin. Finally, we save the DocBin to a file named \"train. spacy\"."
   ],
   "metadata": {
    "collapsed": false
   }
  },
  {
   "cell_type": "code",
   "execution_count": 7,
   "outputs": [
    {
     "name": "stderr",
     "output_type": "stream",
     "text": [
      "100%|██████████| 31/31 [00:00<00:00, 419.01it/s]"
     ]
    },
    {
     "name": "stdout",
     "output_type": "stream",
     "text": [
      "Skipping entity\n",
      "Skipping entity\n",
      "Skipping entity\n",
      "Skipping entity\n",
      "Skipping entity\n",
      "Skipping entity\n",
      "Skipping entity\n",
      "Skipping entity\n",
      "Skipping entity\n",
      "Skipping entity\n",
      "Skipping entity\n",
      "Skipping entity\n",
      "Skipping entity\n",
      "Skipping entity\n",
      "Skipping entity\n",
      "Skipping entity\n",
      "Skipping entity\n",
      "Skipping entity\n",
      "Skipping entity\n",
      "Skipping entity\n",
      "Skipping entity\n",
      "Skipping entity\n",
      "Skipping entity\n",
      "Skipping entity\n",
      "Skipping entity\n",
      "Skipping entity\n",
      "Skipping entity\n"
     ]
    },
    {
     "name": "stderr",
     "output_type": "stream",
     "text": [
      "\n"
     ]
    }
   ],
   "source": [
    "from spacy.tokens import DocBin\n",
    "from tqdm import tqdm\n",
    "\n",
    "nlp = spacy.blank(\"en\")\n",
    "doc_bin = DocBin()\n",
    "\n",
    "from spacy.util import filter_spans\n",
    "\n",
    "for training_example in tqdm(training_data):\n",
    "    text = training_example['text']\n",
    "    labels = training_example['entities']\n",
    "    doc = nlp.make_doc(text)\n",
    "    ents = []\n",
    "    for start, end, label in labels:\n",
    "        span = doc.char_span(start, end, label=label, alignment_mode=\"contract\")\n",
    "        if span is None:\n",
    "            print(\"Skipping entity\")\n",
    "        else:\n",
    "            ents.append(span)\n",
    "    filtered_ents = filter_spans(ents)\n",
    "    doc.ents = filtered_ents\n",
    "    doc_bin.add(doc)\n",
    "\n",
    "doc_bin.to_disk(\"train.spacy\")"
   ],
   "metadata": {
    "collapsed": false,
    "ExecuteTime": {
     "start_time": "2023-09-12T18:09:16.678843Z",
     "end_time": "2023-09-12T18:09:16.931845Z"
    }
   }
  },
  {
   "cell_type": "markdown",
   "source": [
    "**Initializing the Training Configuration**\n",
    "This command initializes a base configuration file named \"base_config.cfg\" and fills it with default settings. The filled configuration is saved as \"config.cfg\", which can be further customized for training the NER model. The base config file was generated using a widget located at https://spacy.io/usage/training. Make sure to select **ner** when generating the base configuration file. The generated file may contain incompatible version numbers that might need to be corrected to match your SpaCy installation."
   ],
   "metadata": {
    "collapsed": false
   }
  },
  {
   "cell_type": "code",
   "execution_count": 8,
   "outputs": [
    {
     "name": "stdout",
     "output_type": "stream",
     "text": [
      "[+] Auto-filled config with all values\n",
      "[+] Saved config\n",
      "config.cfg\n",
      "You can now add your data and train your pipeline:\n",
      "python -m spacy train config.cfg --paths.train ./train.spacy --paths.dev ./dev.spacy\n"
     ]
    }
   ],
   "source": [
    "!python -m spacy init fill-config base_config.cfg config.cfg"
   ],
   "metadata": {
    "collapsed": false,
    "ExecuteTime": {
     "start_time": "2023-09-12T18:09:22.794463Z",
     "end_time": "2023-09-12T18:09:24.161214Z"
    }
   }
  },
  {
   "cell_type": "markdown",
   "source": [
    "**Training the NER Model**\n",
    "This command trains the NER model using the specified configuration file (\"config. cfg\") and the training data from the \"train.spacy\" file. The trained model is saved in the current directory."
   ],
   "metadata": {
    "collapsed": false
   }
  },
  {
   "cell_type": "code",
   "execution_count": 9,
   "outputs": [
    {
     "name": "stdout",
     "output_type": "stream",
     "text": [
      "[i] Using CPU\n",
      "\u001B[1m\n",
      "=========================== Initializing pipeline ===========================\u001B[0m\n",
      "[+] Initialized pipeline\n",
      "\u001B[1m\n",
      "============================= Training pipeline =============================\u001B[0m\n",
      "[i] Pipeline: ['tok2vec', 'ner']\n",
      "[i] Initial learn rate: 0.001\n",
      "E    #       LOSS TOK2VEC  LOSS NER  ENTS_F  ENTS_P  ENTS_R  SCORE \n",
      "---  ------  ------------  --------  ------  ------  ------  ------\n",
      "  0       0          0.00    150.79    0.00    0.00    0.00    0.00\n",
      "  7     200        758.68   3352.17   76.56   81.28   72.36    0.77\n",
      " 14     400        281.45    704.34   96.73   97.13   96.34    0.97\n",
      " 22     600        202.63    288.23   96.77   96.00   97.56    0.97\n",
      " 30     800        326.15    252.71   97.76   97.96   97.56    0.98\n",
      " 40    1000        197.85    193.20   97.97   97.97   97.97    0.98\n",
      " 52    1200        268.27    181.26   98.57   99.18   97.97    0.99\n",
      " 65    1400        915.85    233.16   98.37   98.37   98.37    0.98\n",
      " 82    1600        300.12    214.70   98.17   98.37   97.97    0.98\n",
      "103    1800        134.77    194.41   98.38   97.98   98.78    0.98\n",
      "128    2000        163.05    220.61   98.78   98.78   98.78    0.99\n",
      "160    2200         93.02    220.01   98.78   98.78   98.78    0.99\n",
      "200    2400         94.94    244.00   98.78   99.18   98.37    0.99\n",
      "249    2600        401.53    301.38   98.78   98.78   98.78    0.99\n",
      "298    2800         98.05    264.71   98.79   98.39   99.19    0.99\n",
      "348    3000        272.67    302.07   98.78   98.78   98.78    0.99\n",
      "397    3200        256.48    282.86   98.79   98.39   99.19    0.99\n",
      "447    3400        111.71    262.02   98.79   98.39   99.19    0.99\n",
      "496    3600         30.35    238.82   98.78   98.78   98.78    0.99\n",
      "545    3800         76.49    254.25   98.78   98.78   98.78    0.99\n",
      "595    4000         72.70    249.80   98.78   98.78   98.78    0.99\n",
      "644    4200         94.80    244.08   98.78   99.18   98.37    0.99\n",
      "693    4400        362.59    291.05   98.78   99.18   98.37    0.99\n",
      "742    4600         81.33    241.87   98.78   98.78   98.78    0.99\n",
      "791    4800        128.34    252.56   98.79   98.39   99.19    0.99\n",
      "840    5000        203.77    249.90   98.78   98.78   98.78    0.99\n",
      "889    5200         68.56    244.23   98.78   99.18   98.37    0.99\n",
      "938    5400         55.72    237.59   98.78   99.18   98.37    0.99\n",
      "987    5600        228.03    244.13   98.78   98.78   98.78    0.99\n",
      "1036    5800        206.55    241.89   98.78   98.78   98.78    0.99\n",
      "1085    6000         81.07    230.67   98.78   98.78   98.78    0.99\n",
      "1134    6200         46.63    232.88   98.78   98.78   98.78    0.99\n",
      "1183    6400         63.07    226.96   98.79   98.39   99.19    0.99\n",
      "1231    6600        209.30    241.06   98.78   98.78   98.78    0.99\n",
      "1280    6800        136.53    239.40   98.78   98.78   98.78    0.99\n",
      "1330    7000         60.75    239.19   98.78   99.18   98.37    0.99\n",
      "1379    7200        143.84    224.65   98.79   98.39   99.19    0.99\n",
      "1429    7400        375.37    249.54   98.79   98.39   99.19    0.99\n",
      "1478    7600         57.39    221.74   98.78   99.18   98.37    0.99\n",
      "1527    7800        391.99    245.26   98.79   98.39   99.19    0.99\n",
      "1576    8000        128.25    238.36   98.79   98.39   99.19    0.99\n",
      "1626    8200        140.36    235.11   98.78   98.78   98.78    0.99\n",
      "1675    8400         42.19    221.05   98.78   99.18   98.37    0.99\n",
      "1724    8600         48.52    229.11   98.78   99.18   98.37    0.99\n",
      "1773    8800         29.39    221.27   98.78   98.78   98.78    0.99\n",
      "1822    9000         32.35    216.63   98.78   98.78   98.78    0.99\n",
      "1871    9200        128.81    233.42   98.79   98.39   99.19    0.99\n",
      "1919    9400        234.63    227.97   98.78   98.78   98.78    0.99\n",
      "1969    9600        146.14    234.98   98.79   98.39   99.19    0.99\n",
      "2019    9800         50.21    229.83   98.78   99.18   98.37    0.99\n",
      "2068   10000        124.19    220.33   98.78   98.78   98.78    0.99\n",
      "2118   10200         75.93    229.18   98.78   98.78   98.78    0.99\n",
      "2167   10400        141.27    229.24   98.78   98.78   98.78    0.99\n",
      "2216   10600        101.57    220.48   98.78   99.18   98.37    0.99\n",
      "2265   10800        237.50    226.44   98.79   98.39   99.19    0.99\n",
      "2314   11000       6840.36    298.33   98.79   98.39   99.19    0.99\n",
      "2363   11200        203.84    223.05   98.78   99.18   98.37    0.99\n",
      "2412   11400        220.97    237.54   98.78   99.18   98.37    0.99\n",
      "2461   11600         77.99    225.14   98.78   98.78   98.78    0.99\n",
      "2511   11800         47.00    217.84   98.78   99.18   98.37    0.99\n",
      "2560   12000        112.69    226.72   98.79   98.39   99.19    0.99\n",
      "2609   12200         29.48    214.51   98.79   98.39   99.19    0.99\n",
      "2658   12400         30.61    210.91   98.78   98.78   98.78    0.99\n",
      "2707   12600        132.33    219.72   98.79   98.39   99.19    0.99\n",
      "2755   12800         42.05    213.70   98.79   98.39   99.19    0.99\n",
      "2805   13000         27.03    219.43   98.78   98.78   98.78    0.99\n",
      "2854   13200        116.74    215.23   98.79   98.39   99.19    0.99\n",
      "2903   13400         69.70    217.61   98.78   98.78   98.78    0.99\n",
      "2953   13600        134.68    225.77   98.78   98.78   98.78    0.99\n",
      "3003   13800         85.26    224.26   98.78   98.78   98.78    0.99\n",
      "3052   14000         52.12    208.54   98.78   99.18   98.37    0.99\n",
      "3101   14200         51.01    215.60   98.78   98.78   98.78    0.99\n",
      "3149   14400         36.88    215.94   98.79   98.39   99.19    0.99\n",
      "3198   14600        156.89    233.67   98.79   98.39   99.19    0.99\n",
      "3248   14800        258.81    220.74   98.78   99.18   98.37    0.99\n",
      "3297   15000        365.14    235.32   98.78   98.78   98.78    0.99\n",
      "3346   15200         40.26    215.92   98.78   99.18   98.37    0.99\n",
      "3395   15400         49.24    215.75   98.79   98.39   99.19    0.99\n",
      "3445   15600         40.18    214.20   98.78   98.78   98.78    0.99\n",
      "3494   15800         39.84    216.40   98.79   98.39   99.19    0.99\n",
      "3544   16000         30.89    210.51   98.78   98.78   98.78    0.99\n",
      "3593   16200         50.90    217.53   98.78   99.18   98.37    0.99\n",
      "3642   16400         19.06    216.81   98.78   98.78   98.78    0.99\n",
      "3691   16600         40.94    211.41   98.78   98.78   98.78    0.99\n",
      "3741   16800        159.47    212.03   98.78   98.78   98.78    0.99\n",
      "3790   17000        209.38    221.52   98.79   98.39   99.19    0.99\n",
      "3839   17200        606.74    230.53   98.78   98.78   98.78    0.99\n",
      "3888   17400       1232.97    254.95   98.78   98.78   98.78    0.99\n",
      "3937   17600        410.39    229.30   98.78   98.78   98.78    0.99\n",
      "3986   17800         64.47    211.31   98.78   98.78   98.78    0.99\n",
      "4035   18000        116.51    216.56   98.78   98.78   98.78    0.99\n",
      "4083   18200        405.41    221.13   98.78   98.78   98.78    0.99\n",
      "4132   18400        124.70    215.87   98.78   99.18   98.37    0.99\n",
      "4182   18600         55.05    223.45   98.78   98.78   98.78    0.99\n",
      "[+] Saved pipeline to output directory\n",
      "model-last\n"
     ]
    },
    {
     "name": "stderr",
     "output_type": "stream",
     "text": [
      "Set up nlp object from config\n",
      "Pipeline: ['tok2vec', 'ner']\n",
      "Created vocabulary\n",
      "Finished initializing nlp object\n",
      "Initialized pipeline components: ['tok2vec', 'ner']\n"
     ]
    }
   ],
   "source": [
    "!python -m spacy train config.cfg --output ./ --paths.train ./train.spacy --paths.dev ./train.spacy"
   ],
   "metadata": {
    "collapsed": false,
    "ExecuteTime": {
     "start_time": "2023-09-12T18:09:27.924625Z",
     "end_time": "2023-09-12T19:02:04.193469Z"
    }
   }
  },
  {
   "cell_type": "markdown",
   "source": [
    "**Loading the Trained NER Model and Visualizing Entities**\n",
    "In this part, we load the trained NER model using spacy.load(\"model-best\"). Then, we process a sample text using the loaded model and store the result in the doc variable. Finally, we define colors for entity types, specify options, and use displacy.render to visualize the entities with their corresponding colors in the Jupyter Notebook."
   ],
   "metadata": {
    "collapsed": false
   }
  },
  {
   "cell_type": "code",
   "execution_count": 14,
   "outputs": [
    {
     "data": {
      "text/plain": "<IPython.core.display.HTML object>",
      "text/html": "<span class=\"tex2jax_ignore\"><div class=\"entities\" style=\"line-height: 2.5; direction: ltr\">While \n<mark class=\"entity\" style=\"background: #7DF6D9; padding: 0.45em 0.6em; margin: 0 0.25em; line-height: 1; border-radius: 0.35em;\">\n    bismuth compounds\n    <span style=\"font-size: 0.8em; font-weight: bold; line-height: 1; border-radius: 0.35em; vertical-align: middle; margin-left: 0.5rem\">MEDICINE</span>\n</mark>\n (\n<mark class=\"entity\" style=\"background: #7DF6D9; padding: 0.45em 0.6em; margin: 0 0.25em; line-height: 1; border-radius: 0.35em;\">\n    Pepto-Bismol\n    <span style=\"font-size: 0.8em; font-weight: bold; line-height: 1; border-radius: 0.35em; vertical-align: middle; margin-left: 0.5rem\">MEDICINE</span>\n</mark>\n) decreased the number of bowel movements in those with travelers' \n<mark class=\"entity\" style=\"background: #a6e22d; padding: 0.45em 0.6em; margin: 0 0.25em; line-height: 1; border-radius: 0.35em;\">\n    diarrhea\n    <span style=\"font-size: 0.8em; font-weight: bold; line-height: 1; border-radius: 0.35em; vertical-align: middle; margin-left: 0.5rem\">MEDICALCONDITION</span>\n</mark>\n, they do not decrease the length of illness.[91] Anti-motility agents like \n<mark class=\"entity\" style=\"background: #7DF6D9; padding: 0.45em 0.6em; margin: 0 0.25em; line-height: 1; border-radius: 0.35em;\">\n    loperamide\n    <span style=\"font-size: 0.8em; font-weight: bold; line-height: 1; border-radius: 0.35em; vertical-align: middle; margin-left: 0.5rem\">MEDICINE</span>\n</mark>\n are also effective at reducing the number of stools but not the duration of disease.[8] These agents should be used only if bloody diarrhea is not present.</div></span>"
     },
     "metadata": {},
     "output_type": "display_data"
    }
   ],
   "source": [
    "nlp_ner = spacy.load(\"model-best\")\n",
    "doc = nlp_ner(\"While bismuth compounds (Pepto-Bismol) decreased the number of bowel movements in those with travelers' diarrhea, they do not decrease the length of illness.[91] Anti-motility agents like loperamide are also effective at reducing the number of stools but not the duration of disease.[8] These agents should be used only if bloody diarrhea is not present.\")\n",
    "colors = {\"PATHOGEN\": \"#F67DE3\", \"MEDICINE\": \"#7DF6D9\", \"MEDICALCONDITION\": \"#a6e22d\"}\n",
    "options = {\"colors\": colors}\n",
    "spacy.displacy.render(doc, style=\"ent\", options=options, jupyter=True)"
   ],
   "metadata": {
    "collapsed": false,
    "ExecuteTime": {
     "start_time": "2023-09-12T19:29:35.950583Z",
     "end_time": "2023-09-12T19:29:36.313853Z"
    }
   }
  },
  {
   "cell_type": "code",
   "execution_count": null,
   "outputs": [],
   "source": [],
   "metadata": {
    "collapsed": false
   }
  }
 ],
 "metadata": {
  "kernelspec": {
   "display_name": "Python 3",
   "language": "python",
   "name": "python3"
  },
  "language_info": {
   "codemirror_mode": {
    "name": "ipython",
    "version": 2
   },
   "file_extension": ".py",
   "mimetype": "text/x-python",
   "name": "python",
   "nbconvert_exporter": "python",
   "pygments_lexer": "ipython2",
   "version": "2.7.6"
  }
 },
 "nbformat": 4,
 "nbformat_minor": 0
}
