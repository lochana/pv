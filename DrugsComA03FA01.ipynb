{
  "nbformat": 4,
  "nbformat_minor": 0,
  "metadata": {
    "colab": {
      "name": "DrugsComA03FA01.ipynb",
      "provenance": [],
      "authorship_tag": "ABX9TyP2btWSH1B/t24oXpZqVSZm",
      "include_colab_link": true
    },
    "kernelspec": {
      "name": "python3",
      "display_name": "Python 3"
    },
    "language_info": {
      "name": "python"
    }
  },
  "cells": [
    {
      "cell_type": "markdown",
      "metadata": {
        "id": "view-in-github",
        "colab_type": "text"
      },
      "source": [
        "<a href=\"https://colab.research.google.com/github/lochana/pv/blob/main/DrugsComA03FA01.ipynb\" target=\"_parent\"><img src=\"https://colab.research.google.com/assets/colab-badge.svg\" alt=\"Open In Colab\"/></a>"
      ]
    },
    {
      "cell_type": "code",
      "execution_count": null,
      "metadata": {
        "id": "73X4fmLOo8n1",
        "colab": {
          "base_uri": "https://localhost:8080/",
          "height": 956
        },
        "outputId": "7f3f626d-cd86-4601-94be-b3534a2491dd"
      },
      "outputs": [
        {
          "output_type": "display_data",
          "data": {
            "text/plain": [
              "    web-scraper-order                              web-scraper-start-url  \\\n",
              "0      1653111937-312  https://www.drugs.com/comments/metoclopramide/...   \n",
              "1       1653111712-59  https://www.drugs.com/comments/metoclopramide/...   \n",
              "2      1653111774-118  https://www.drugs.com/comments/metoclopramide/...   \n",
              "3      1653111886-258  https://www.drugs.com/comments/metoclopramide/...   \n",
              "4      1653111953-339  https://www.drugs.com/comments/metoclopramide/...   \n",
              "..                ...                                                ...   \n",
              "470    1653111774-121  https://www.drugs.com/comments/metoclopramide/...   \n",
              "471    1653111805-174  https://www.drugs.com/comments/metoclopramide/...   \n",
              "472    1653111906-295  https://www.drugs.com/comments/metoclopramide/...   \n",
              "473    1653111774-119  https://www.drugs.com/comments/metoclopramide/...   \n",
              "474    1653112018-418  https://www.drugs.com/comments/metoclopramide/...   \n",
              "\n",
              "                 name                     duration               date  \\\n",
              "0             Mrs. DJ             January 26, 2016   January 26, 2016   \n",
              "1                Lisa      Taken for 1 to 6 months   January 11, 2022   \n",
              "2          Wheels 123            September 8, 2016  September 8, 2016   \n",
              "3              Red C.  Taken for less than 1 month     April 30, 2014   \n",
              "4    August Winterman             January 23, 2017   January 23, 2017   \n",
              "..                ...                          ...                ...   \n",
              "470               Tea  Taken for less than 1 month       May 31, 2018   \n",
              "471        Pattie4444            February 21, 2017  February 21, 2017   \n",
              "472              Jj22      Taken for 1 to 6 months    October 9, 2019   \n",
              "473             Norby  Taken for less than 1 month   January 13, 2019   \n",
              "474            May123  Taken for less than 1 month   January 13, 2013   \n",
              "\n",
              "                                                review   rating  likes  \n",
              "0    Reglan (metoclopramide) for Nausea/Vomiting:\\t...   1 / 10     16  \n",
              "1    For GERD:\\t\\t“This was so awful it gave me sid...   1 / 10      0  \n",
              "2    Reglan (metoclopramide) for Lactation Augmenta...  10 / 10      3  \n",
              "3    Reglan (metoclopramide) for Migraine:\\t\\t“Had ...   2 / 10     15  \n",
              "4    Reglan (metoclopramide) for Nausea/Vomiting:\\t...  10 / 10     16  \n",
              "..                                                 ...      ...    ...  \n",
              "470  For Nausea/Vomiting:\\t\\t“Prescribed for mornin...   1 / 10      2  \n",
              "471  For Migraine:\\t\\t“After suffering the worst mi...   7 / 10      5  \n",
              "472  For Nausea/Vomiting:\\t\\t“I take this Maxolon f...  10 / 10      7  \n",
              "473  For Migraine:\\t\\t“I was administered 10mg of M...   1 / 10      2  \n",
              "474  Reglan (metoclopramide) for GERD:\\t\\t“This med...   1 / 10     38  \n",
              "\n",
              "[475 rows x 8 columns]"
            ],
            "text/html": [
              "\n",
              "  <div id=\"df-743fd94a-a2ed-49ec-8662-f9189e68f9ee\">\n",
              "    <div class=\"colab-df-container\">\n",
              "      <div>\n",
              "<style scoped>\n",
              "    .dataframe tbody tr th:only-of-type {\n",
              "        vertical-align: middle;\n",
              "    }\n",
              "\n",
              "    .dataframe tbody tr th {\n",
              "        vertical-align: top;\n",
              "    }\n",
              "\n",
              "    .dataframe thead th {\n",
              "        text-align: right;\n",
              "    }\n",
              "</style>\n",
              "<table border=\"1\" class=\"dataframe\">\n",
              "  <thead>\n",
              "    <tr style=\"text-align: right;\">\n",
              "      <th></th>\n",
              "      <th>web-scraper-order</th>\n",
              "      <th>web-scraper-start-url</th>\n",
              "      <th>name</th>\n",
              "      <th>duration</th>\n",
              "      <th>date</th>\n",
              "      <th>review</th>\n",
              "      <th>rating</th>\n",
              "      <th>likes</th>\n",
              "    </tr>\n",
              "  </thead>\n",
              "  <tbody>\n",
              "    <tr>\n",
              "      <th>0</th>\n",
              "      <td>1653111937-312</td>\n",
              "      <td>https://www.drugs.com/comments/metoclopramide/...</td>\n",
              "      <td>Mrs. DJ</td>\n",
              "      <td>January 26, 2016</td>\n",
              "      <td>January 26, 2016</td>\n",
              "      <td>Reglan (metoclopramide) for Nausea/Vomiting:\\t...</td>\n",
              "      <td>1 / 10</td>\n",
              "      <td>16</td>\n",
              "    </tr>\n",
              "    <tr>\n",
              "      <th>1</th>\n",
              "      <td>1653111712-59</td>\n",
              "      <td>https://www.drugs.com/comments/metoclopramide/...</td>\n",
              "      <td>Lisa</td>\n",
              "      <td>Taken for 1 to 6 months</td>\n",
              "      <td>January 11, 2022</td>\n",
              "      <td>For GERD:\\t\\t“This was so awful it gave me sid...</td>\n",
              "      <td>1 / 10</td>\n",
              "      <td>0</td>\n",
              "    </tr>\n",
              "    <tr>\n",
              "      <th>2</th>\n",
              "      <td>1653111774-118</td>\n",
              "      <td>https://www.drugs.com/comments/metoclopramide/...</td>\n",
              "      <td>Wheels 123</td>\n",
              "      <td>September 8, 2016</td>\n",
              "      <td>September 8, 2016</td>\n",
              "      <td>Reglan (metoclopramide) for Lactation Augmenta...</td>\n",
              "      <td>10 / 10</td>\n",
              "      <td>3</td>\n",
              "    </tr>\n",
              "    <tr>\n",
              "      <th>3</th>\n",
              "      <td>1653111886-258</td>\n",
              "      <td>https://www.drugs.com/comments/metoclopramide/...</td>\n",
              "      <td>Red C.</td>\n",
              "      <td>Taken for less than 1 month</td>\n",
              "      <td>April 30, 2014</td>\n",
              "      <td>Reglan (metoclopramide) for Migraine:\\t\\t“Had ...</td>\n",
              "      <td>2 / 10</td>\n",
              "      <td>15</td>\n",
              "    </tr>\n",
              "    <tr>\n",
              "      <th>4</th>\n",
              "      <td>1653111953-339</td>\n",
              "      <td>https://www.drugs.com/comments/metoclopramide/...</td>\n",
              "      <td>August Winterman</td>\n",
              "      <td>January 23, 2017</td>\n",
              "      <td>January 23, 2017</td>\n",
              "      <td>Reglan (metoclopramide) for Nausea/Vomiting:\\t...</td>\n",
              "      <td>10 / 10</td>\n",
              "      <td>16</td>\n",
              "    </tr>\n",
              "    <tr>\n",
              "      <th>...</th>\n",
              "      <td>...</td>\n",
              "      <td>...</td>\n",
              "      <td>...</td>\n",
              "      <td>...</td>\n",
              "      <td>...</td>\n",
              "      <td>...</td>\n",
              "      <td>...</td>\n",
              "      <td>...</td>\n",
              "    </tr>\n",
              "    <tr>\n",
              "      <th>470</th>\n",
              "      <td>1653111774-121</td>\n",
              "      <td>https://www.drugs.com/comments/metoclopramide/...</td>\n",
              "      <td>Tea</td>\n",
              "      <td>Taken for less than 1 month</td>\n",
              "      <td>May 31, 2018</td>\n",
              "      <td>For Nausea/Vomiting:\\t\\t“Prescribed for mornin...</td>\n",
              "      <td>1 / 10</td>\n",
              "      <td>2</td>\n",
              "    </tr>\n",
              "    <tr>\n",
              "      <th>471</th>\n",
              "      <td>1653111805-174</td>\n",
              "      <td>https://www.drugs.com/comments/metoclopramide/...</td>\n",
              "      <td>Pattie4444</td>\n",
              "      <td>February 21, 2017</td>\n",
              "      <td>February 21, 2017</td>\n",
              "      <td>For Migraine:\\t\\t“After suffering the worst mi...</td>\n",
              "      <td>7 / 10</td>\n",
              "      <td>5</td>\n",
              "    </tr>\n",
              "    <tr>\n",
              "      <th>472</th>\n",
              "      <td>1653111906-295</td>\n",
              "      <td>https://www.drugs.com/comments/metoclopramide/...</td>\n",
              "      <td>Jj22</td>\n",
              "      <td>Taken for 1 to 6 months</td>\n",
              "      <td>October 9, 2019</td>\n",
              "      <td>For Nausea/Vomiting:\\t\\t“I take this Maxolon f...</td>\n",
              "      <td>10 / 10</td>\n",
              "      <td>7</td>\n",
              "    </tr>\n",
              "    <tr>\n",
              "      <th>473</th>\n",
              "      <td>1653111774-119</td>\n",
              "      <td>https://www.drugs.com/comments/metoclopramide/...</td>\n",
              "      <td>Norby</td>\n",
              "      <td>Taken for less than 1 month</td>\n",
              "      <td>January 13, 2019</td>\n",
              "      <td>For Migraine:\\t\\t“I was administered 10mg of M...</td>\n",
              "      <td>1 / 10</td>\n",
              "      <td>2</td>\n",
              "    </tr>\n",
              "    <tr>\n",
              "      <th>474</th>\n",
              "      <td>1653112018-418</td>\n",
              "      <td>https://www.drugs.com/comments/metoclopramide/...</td>\n",
              "      <td>May123</td>\n",
              "      <td>Taken for less than 1 month</td>\n",
              "      <td>January 13, 2013</td>\n",
              "      <td>Reglan (metoclopramide) for GERD:\\t\\t“This med...</td>\n",
              "      <td>1 / 10</td>\n",
              "      <td>38</td>\n",
              "    </tr>\n",
              "  </tbody>\n",
              "</table>\n",
              "<p>475 rows × 8 columns</p>\n",
              "</div>\n",
              "      <button class=\"colab-df-convert\" onclick=\"convertToInteractive('df-743fd94a-a2ed-49ec-8662-f9189e68f9ee')\"\n",
              "              title=\"Convert this dataframe to an interactive table.\"\n",
              "              style=\"display:none;\">\n",
              "        \n",
              "  <svg xmlns=\"http://www.w3.org/2000/svg\" height=\"24px\"viewBox=\"0 0 24 24\"\n",
              "       width=\"24px\">\n",
              "    <path d=\"M0 0h24v24H0V0z\" fill=\"none\"/>\n",
              "    <path d=\"M18.56 5.44l.94 2.06.94-2.06 2.06-.94-2.06-.94-.94-2.06-.94 2.06-2.06.94zm-11 1L8.5 8.5l.94-2.06 2.06-.94-2.06-.94L8.5 2.5l-.94 2.06-2.06.94zm10 10l.94 2.06.94-2.06 2.06-.94-2.06-.94-.94-2.06-.94 2.06-2.06.94z\"/><path d=\"M17.41 7.96l-1.37-1.37c-.4-.4-.92-.59-1.43-.59-.52 0-1.04.2-1.43.59L10.3 9.45l-7.72 7.72c-.78.78-.78 2.05 0 2.83L4 21.41c.39.39.9.59 1.41.59.51 0 1.02-.2 1.41-.59l7.78-7.78 2.81-2.81c.8-.78.8-2.07 0-2.86zM5.41 20L4 18.59l7.72-7.72 1.47 1.35L5.41 20z\"/>\n",
              "  </svg>\n",
              "      </button>\n",
              "      \n",
              "  <style>\n",
              "    .colab-df-container {\n",
              "      display:flex;\n",
              "      flex-wrap:wrap;\n",
              "      gap: 12px;\n",
              "    }\n",
              "\n",
              "    .colab-df-convert {\n",
              "      background-color: #E8F0FE;\n",
              "      border: none;\n",
              "      border-radius: 50%;\n",
              "      cursor: pointer;\n",
              "      display: none;\n",
              "      fill: #1967D2;\n",
              "      height: 32px;\n",
              "      padding: 0 0 0 0;\n",
              "      width: 32px;\n",
              "    }\n",
              "\n",
              "    .colab-df-convert:hover {\n",
              "      background-color: #E2EBFA;\n",
              "      box-shadow: 0px 1px 2px rgba(60, 64, 67, 0.3), 0px 1px 3px 1px rgba(60, 64, 67, 0.15);\n",
              "      fill: #174EA6;\n",
              "    }\n",
              "\n",
              "    [theme=dark] .colab-df-convert {\n",
              "      background-color: #3B4455;\n",
              "      fill: #D2E3FC;\n",
              "    }\n",
              "\n",
              "    [theme=dark] .colab-df-convert:hover {\n",
              "      background-color: #434B5C;\n",
              "      box-shadow: 0px 1px 3px 1px rgba(0, 0, 0, 0.15);\n",
              "      filter: drop-shadow(0px 1px 2px rgba(0, 0, 0, 0.3));\n",
              "      fill: #FFFFFF;\n",
              "    }\n",
              "  </style>\n",
              "\n",
              "      <script>\n",
              "        const buttonEl =\n",
              "          document.querySelector('#df-743fd94a-a2ed-49ec-8662-f9189e68f9ee button.colab-df-convert');\n",
              "        buttonEl.style.display =\n",
              "          google.colab.kernel.accessAllowed ? 'block' : 'none';\n",
              "\n",
              "        async function convertToInteractive(key) {\n",
              "          const element = document.querySelector('#df-743fd94a-a2ed-49ec-8662-f9189e68f9ee');\n",
              "          const dataTable =\n",
              "            await google.colab.kernel.invokeFunction('convertToInteractive',\n",
              "                                                     [key], {});\n",
              "          if (!dataTable) return;\n",
              "\n",
              "          const docLinkHtml = 'Like what you see? Visit the ' +\n",
              "            '<a target=\"_blank\" href=https://colab.research.google.com/notebooks/data_table.ipynb>data table notebook</a>'\n",
              "            + ' to learn more about interactive tables.';\n",
              "          element.innerHTML = '';\n",
              "          dataTable['output_type'] = 'display_data';\n",
              "          await google.colab.output.renderOutput(dataTable, element);\n",
              "          const docLink = document.createElement('div');\n",
              "          docLink.innerHTML = docLinkHtml;\n",
              "          element.appendChild(docLink);\n",
              "        }\n",
              "      </script>\n",
              "    </div>\n",
              "  </div>\n",
              "  "
            ]
          },
          "metadata": {}
        },
        {
          "output_type": "execute_result",
          "data": {
            "text/plain": [
              "web-scraper-order         0\n",
              "web-scraper-start-url     0\n",
              "name                      0\n",
              "duration                  0\n",
              "date                      0\n",
              "review                    0\n",
              "rating                   48\n",
              "likes                     0\n",
              "dtype: int64"
            ]
          },
          "metadata": {},
          "execution_count": 12
        }
      ],
      "source": [
        "import pandas as pd\n",
        "\n",
        "url = 'https://raw.githubusercontent.com/lochana/pv/main/DrugsComA03FA01.csv'\n",
        "df = pd.read_csv(url)\n",
        "display (df)\n",
        "df.isna().sum()"
      ]
    },
    {
      "cell_type": "code",
      "source": [
        ""
      ],
      "metadata": {
        "id": "WVprYdffASzs"
      },
      "execution_count": null,
      "outputs": []
    },
    {
      "cell_type": "code",
      "source": [
        ""
      ],
      "metadata": {
        "id": "gqJz-v0VATNP"
      },
      "execution_count": null,
      "outputs": []
    },
    {
      "cell_type": "markdown",
      "source": [
        "# New Section"
      ],
      "metadata": {
        "id": "1rjGFRv3AUW4"
      }
    },
    {
      "cell_type": "code",
      "execution_count": null,
      "metadata": {
        "ExecuteTime": {
          "end_time": "2021-05-26T10:41:58.195850Z",
          "start_time": "2021-05-26T10:41:58.177026Z"
        },
        "id": "pDJCIl3FBAqS",
        "colab": {
          "base_uri": "https://localhost:8080/",
          "height": 119
        },
        "outputId": "56ae4cff-81dc-4345-982b-f194d6aa32b5"
      },
      "outputs": [
        {
          "output_type": "execute_result",
          "data": {
            "text/plain": [
              "<matplotlib.axes._subplots.AxesSubplot at 0x7f57db1a2390>"
            ]
          },
          "metadata": {},
          "execution_count": 20
        },
        {
          "output_type": "display_data",
          "data": {
            "text/plain": [
              "<Figure size 576x72 with 1 Axes>"
            ],
            "image/png": "[encoded data removed]"
          },
          "metadata": {
            "needs_background": "light"
          }
        }
      ],
      "source": [
        "df['length'] = df['review'].str.len()\n",
        "df['length'].plot(kind='box', vert=False, figsize=(8, 1))\n"
      ]
    }
  ]
}